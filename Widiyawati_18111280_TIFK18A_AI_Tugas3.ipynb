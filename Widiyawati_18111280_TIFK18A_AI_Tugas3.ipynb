{
  "nbformat": 4,
  "nbformat_minor": 0,
  "metadata": {
    "colab": {
      "name": "Untitled4.ipynb",
      "provenance": [],
      "collapsed_sections": []
    },
    "kernelspec": {
      "name": "python3",
      "display_name": "Python 3"
    },
    "language_info": {
      "name": "python"
    }
  },
  "cells": [
    {
      "cell_type": "code",
      "metadata": {
        "colab": {
          "base_uri": "https://localhost:8080/"
        },
        "id": "P-wVDkrnMrX2",
        "outputId": "96fadc87-468e-4c88-e66c-1d41f41d1fd8"
      },
      "source": [
        "Nama= \"Widya Wati\"\n",
        "Npm= \"18111280\"\n",
        "MK= \"Artificial Intelligence\"\n",
        "Tugas= \"Tugas 3\"\n",
        "\n",
        "print (Nama);\n",
        "print (Npm);\n",
        "print (MK, Tugas);"
      ],
      "execution_count": 15,
      "outputs": [
        {
          "output_type": "stream",
          "name": "stdout",
          "text": [
            "Widya Wati\n",
            "18111280\n",
            "Artificial Intelligence Tugas 3\n"
          ]
        }
      ]
    },
    {
      "cell_type": "code",
      "metadata": {
        "colab": {
          "base_uri": "https://localhost:8080/"
        },
        "id": "sEycsHWHNToJ",
        "outputId": "b06ee3c4-d984-440b-c449-ae9ffed9b60f"
      },
      "source": [
        "print (\"Selamat Datang di Vending Machine Phython\")"
      ],
      "execution_count": 16,
      "outputs": [
        {
          "output_type": "stream",
          "name": "stdout",
          "text": [
            "Selamat Datang di Vending Machine Phython\n"
          ]
        }
      ]
    },
    {
      "cell_type": "code",
      "metadata": {
        "colab": {
          "base_uri": "https://localhost:8080/"
        },
        "id": "6C6xOUGigGew",
        "outputId": "1dc69e48-ca67-4a19-95cf-1d4f1cd44803"
      },
      "source": [
        "#Masukkan uang\n",
        "nominal_uang = (int(input(\"Silahkan masukkan uang anda: Rp.\")))"
      ],
      "execution_count": 17,
      "outputs": [
        {
          "name": "stdout",
          "output_type": "stream",
          "text": [
            "Silahkan masukkan uang anda: Rp.100000\n"
          ]
        }
      ]
    },
    {
      "cell_type": "code",
      "metadata": {
        "colab": {
          "base_uri": "https://localhost:8080/",
          "height": 614
        },
        "id": "AHcfDtSzga_8",
        "outputId": "24279d0c-2426-46f2-85ae-7ec2d1bdbc65"
      },
      "source": [
        "#panggil data list harga\n",
        "import pandas as pd\n",
        "import csv\n",
        "url = \"https://docs.google.com/spreadsheets/d/1Wb4-fUhj0Tc0cjic6ESAqJa7vunASaqk1BZt3wWDAto/edit?usp=sharing\"\n",
        "data = pd.read_csv(url, sep= '\\t')\n",
        "\n",
        "data.head(11)"
      ],
      "execution_count": 18,
      "outputs": [
        {
          "output_type": "execute_result",
          "data": {
            "text/html": [
              "<div>\n",
              "<style scoped>\n",
              "    .dataframe tbody tr th:only-of-type {\n",
              "        vertical-align: middle;\n",
              "    }\n",
              "\n",
              "    .dataframe tbody tr th {\n",
              "        vertical-align: top;\n",
              "    }\n",
              "\n",
              "    .dataframe thead th {\n",
              "        text-align: right;\n",
              "    }\n",
              "</style>\n",
              "<table border=\"1\" class=\"dataframe\">\n",
              "  <thead>\n",
              "    <tr style=\"text-align: right;\">\n",
              "      <th></th>\n",
              "      <th>&lt;!DOCTYPE html&gt;&lt;html lang=\"en-US\"&gt;&lt;head&gt;&lt;script nonce=\"y+dDyB7RMfj0l4ENyFAMfA\"&gt;var DOCS_timing={}; DOCS_timing['pls']=new Date().getTime();&lt;/script&gt;&lt;meta property=\"og:title\" content=\"DaftarMinuman\"&gt;&lt;meta property=\"og:type\" content=\"article\"&gt;&lt;meta property=\"og:site_name\" content=\"Google Docs\"&gt;&lt;meta property=\"og:url\" content=\"https://docs.google.com/spreadsheets/d/1Wb4-fUhj0Tc0cjic6ESAqJa7vunASaqk1BZt3wWDAto/edit?usp=sharing&amp;amp;usp=embed_facebook\"&gt;&lt;meta property=\"og:image\" content=\"https://lh6.googleusercontent.com/xpDz-oDnxd4C2BEajJl3ccuIlcWV8Z5B_xu7tVgFf_lJX95KWkbSYC4NwemzjUZtDPeEIvpxSeYRvA=w1200-h630-p\"&gt;&lt;meta property=\"og:image:width\" content=\"1200\"&gt;&lt;meta property=\"og:image:height\" content=\"630\"&gt;&lt;meta property=\"og:description\" content=\"Sheet1</th>\n",
              "    </tr>\n",
              "  </thead>\n",
              "  <tbody>\n",
              "    <tr>\n",
              "      <th>0</th>\n",
              "      <td>No, Item,Harga,Berat</td>\n",
              "    </tr>\n",
              "    <tr>\n",
              "      <th>1</th>\n",
              "      <td>1,Milshake,15000,200</td>\n",
              "    </tr>\n",
              "    <tr>\n",
              "      <th>2</th>\n",
              "      <td>2,Coke,7000,100</td>\n",
              "    </tr>\n",
              "    <tr>\n",
              "      <th>3</th>\n",
              "      <td>3,GreenTea,12000,200</td>\n",
              "    </tr>\n",
              "    <tr>\n",
              "      <th>4</th>\n",
              "      <td>4,Moccacino,20000,100</td>\n",
              "    </tr>\n",
              "    <tr>\n",
              "      <th>5</th>\n",
              "      <td>5,Boba,15000,200</td>\n",
              "    </tr>\n",
              "    <tr>\n",
              "      <th>6</th>\n",
              "      <td>6,LemonTea,7000,200</td>\n",
              "    </tr>\n",
              "    <tr>\n",
              "      <th>7</th>\n",
              "      <td>7,Coffe,7000,100</td>\n",
              "    </tr>\n",
              "    <tr>\n",
              "      <th>8</th>\n",
              "      <td>8,ThaiTea,5000,200</td>\n",
              "    </tr>\n",
              "    <tr>\n",
              "      <th>9</th>\n",
              "      <td>9,IceChoco,5000,200</td>\n",
              "    </tr>\n",
              "    <tr>\n",
              "      <th>10</th>\n",
              "      <td>10,IsotonicDrink,5000,200\"&gt;&lt;meta name=\"google\"...</td>\n",
              "    </tr>\n",
              "  </tbody>\n",
              "</table>\n",
              "</div>"
            ],
            "text/plain": [
              "   <!DOCTYPE html><html lang=\"en-US\"><head><script nonce=\"y+dDyB7RMfj0l4ENyFAMfA\">var DOCS_timing={}; DOCS_timing['pls']=new Date().getTime();</script><meta property=\"og:title\" content=\"DaftarMinuman\"><meta property=\"og:type\" content=\"article\"><meta property=\"og:site_name\" content=\"Google Docs\"><meta property=\"og:url\" content=\"https://docs.google.com/spreadsheets/d/1Wb4-fUhj0Tc0cjic6ESAqJa7vunASaqk1BZt3wWDAto/edit?usp=sharing&amp;usp=embed_facebook\"><meta property=\"og:image\" content=\"https://lh6.googleusercontent.com/xpDz-oDnxd4C2BEajJl3ccuIlcWV8Z5B_xu7tVgFf_lJX95KWkbSYC4NwemzjUZtDPeEIvpxSeYRvA=w1200-h630-p\"><meta property=\"og:image:width\" content=\"1200\"><meta property=\"og:image:height\" content=\"630\"><meta property=\"og:description\" content=\"Sheet1\n",
              "0                                No, Item,Harga,Berat                                                                                                                                                                                                                                                                                                                                                                                                                                                                                                                                                                                                                                                                                                                                \n",
              "1                                1,Milshake,15000,200                                                                                                                                                                                                                                                                                                                                                                                                                                                                                                                                                                                                                                                                                                                                \n",
              "2                                     2,Coke,7000,100                                                                                                                                                                                                                                                                                                                                                                                                                                                                                                                                                                                                                                                                                                                                \n",
              "3                                3,GreenTea,12000,200                                                                                                                                                                                                                                                                                                                                                                                                                                                                                                                                                                                                                                                                                                                                \n",
              "4                               4,Moccacino,20000,100                                                                                                                                                                                                                                                                                                                                                                                                                                                                                                                                                                                                                                                                                                                                \n",
              "5                                    5,Boba,15000,200                                                                                                                                                                                                                                                                                                                                                                                                                                                                                                                                                                                                                                                                                                                                \n",
              "6                                 6,LemonTea,7000,200                                                                                                                                                                                                                                                                                                                                                                                                                                                                                                                                                                                                                                                                                                                                \n",
              "7                                    7,Coffe,7000,100                                                                                                                                                                                                                                                                                                                                                                                                                                                                                                                                                                                                                                                                                                                                \n",
              "8                                  8,ThaiTea,5000,200                                                                                                                                                                                                                                                                                                                                                                                                                                                                                                                                                                                                                                                                                                                                \n",
              "9                                 9,IceChoco,5000,200                                                                                                                                                                                                                                                                                                                                                                                                                                                                                                                                                                                                                                                                                                                                \n",
              "10  10,IsotonicDrink,5000,200\"><meta name=\"google\"...                                                                                                                                                                                                                                                                                                                                                                                                                                                                                                                                                                                                                                                                                                                                "
            ]
          },
          "metadata": {},
          "execution_count": 18
        }
      ]
    },
    {
      "cell_type": "code",
      "metadata": {
        "id": "lDdqXOtLtORB"
      },
      "source": [
        "#Membuat variabel untuk 10 produk\n",
        "produk_1, harga_produk_1 = \"Milkshake\", 15000\n",
        "produk_2, harga_produk_2 = \"Coke\", 7000\n",
        "produk_3, harga_produk_3 = \"GreenTea\", 15000\n",
        "produk_4, harga_produk_4 = \"Moccacino\", 20000\n",
        "produk_5, harga_produk_5 = \"Boba\", 15000\n",
        "produk_6, harga_produk_6 = \"LemonTea\", 7000\n",
        "produk_7, harga_produk_7 = \"Coffe\", 7000\n",
        "produk_8, harga_produk_8 = \"ThaiTea\", 5000\n",
        "produk_9, harga_produk_9 = \"IceChoco\", 5000\n",
        "produk_10, harga_produk_10 = \"IsotonicDrink\", 5000"
      ],
      "execution_count": 19,
      "outputs": []
    },
    {
      "cell_type": "code",
      "metadata": {
        "colab": {
          "base_uri": "https://localhost:8080/"
        },
        "id": "-yJcufz96j2N",
        "outputId": "335c2aa6-74f2-4dd0-f9c9-4caf712893ee"
      },
      "source": [
        "#Menanyakan produk apa yang akan dipilih\n",
        "uang_kembalian = 0;\n",
        "pilihan = input(\"Anda akan membeli apa? \")\n"
      ],
      "execution_count": 20,
      "outputs": [
        {
          "name": "stdout",
          "output_type": "stream",
          "text": [
            "Anda akan membeli apa? Coke\n"
          ]
        }
      ]
    },
    {
      "cell_type": "code",
      "metadata": {
        "colab": {
          "base_uri": "https://localhost:8080/"
        },
        "id": "_3j_Xvsqme-5",
        "outputId": "96ce4a23-47ac-44a9-f414-4500e39c2473"
      },
      "source": [
        "#ROLE: COKE\n",
        "import numpy as np\n",
        "\n",
        "produk_arr=np.array([[1,2,3,4,5,6,7,8,9,10],[15000,7000,12000,20000,15000,7000,7000,5000,5000,5000]])\n",
        "\n",
        "print(\"Harga dari 1 cup adalah\", produk_arr[1,1])"
      ],
      "execution_count": 21,
      "outputs": [
        {
          "output_type": "stream",
          "name": "stdout",
          "text": [
            "Harga dari 1 cup adalah 7000\n"
          ]
        }
      ]
    },
    {
      "cell_type": "code",
      "metadata": {
        "colab": {
          "base_uri": "https://localhost:8080/"
        },
        "id": "YSOpNdrKr-IQ",
        "outputId": "5cd715bc-dbfe-49e4-910a-f02fdb98b66f"
      },
      "source": [
        "#ROLE: COKE\n",
        "jumlah_cup = (int(input(\"Silahkan masukkan berapa cup anda akan memesan: \")))\n",
        "total = produk_arr[1,1]*jumlah_cup\n",
        "\n",
        "print(\"Anda memesan sebanyak\", jumlah_cup, \"Selanjutnya akan kami total\", total)\n"
      ],
      "execution_count": 22,
      "outputs": [
        {
          "output_type": "stream",
          "name": "stdout",
          "text": [
            "Silahkan masukkan berapa cup anda akan memesan: 5\n",
            "Anda memesan sebanyak 5 Selanjutnya akan kami total 35000\n"
          ]
        }
      ]
    },
    {
      "cell_type": "code",
      "metadata": {
        "colab": {
          "base_uri": "https://localhost:8080/"
        },
        "id": "MESQRe7jtk8n",
        "outputId": "78ce20d3-9e4c-4065-ddef-9f0744f8395e"
      },
      "source": [
        "#ROLE: COKE\n",
        "print(\"Berikut adalah Total Pesanan Anda\")\n",
        "\n",
        "if pilihan == \"Coke\" or pilihan == \"coke\":\n",
        "  print(\"Pilihan anda adalah\", jumlah_cup, \"cup\",produk_2, \". Harga\", total, \"Rupiah\")\n",
        "  uang_kembalian = (nominal_uang - total)\n",
        "  print(\"Terimakasih telah berkunjung. Unag kembalian anda adalah\", uang_kembalian)\n",
        "else:\n",
        "  print(\"Maaf Pilihan anda tidak ada pada Menu. Silahkan coba lagi :)\")"
      ],
      "execution_count": 28,
      "outputs": [
        {
          "output_type": "stream",
          "name": "stdout",
          "text": [
            "Berikut adalah Total Pesanan Anda\n",
            "Pilihan anda adalah 5 cup Coke . Harga 35000 Rupiah\n",
            "Terimakasih telah berkunjung. Unag kembalian anda adalah 65000\n"
          ]
        }
      ]
    }
  ]
}